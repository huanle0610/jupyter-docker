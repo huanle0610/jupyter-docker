{
 "cells": [
  {
   "cell_type": "code",
   "execution_count": null,
   "metadata": {},
   "outputs": [],
   "source": [
    "import sys"
   ]
  },
  {
   "cell_type": "code",
   "execution_count": null,
   "metadata": {},
   "outputs": [],
   "source": [
    "sys.path"
   ]
  },
  {
   "cell_type": "code",
   "execution_count": 1,
   "metadata": {},
   "outputs": [
    {
     "name": "stdout",
     "output_type": "stream",
     "text": [
      "['alembic==0.9.9', 'asn1crypto==0.24.0', 'async-generator==1.10', 'attrs==18.2.0', 'backcall==0.1.0', 'bash-kernel==0.7.1', 'beautifulsoup4==4.6.3', 'bleach==3.0.2', 'bokeh==0.13.0', 'certifi==2018.11.29', 'cffi==1.11.5', 'chardet==3.0.4', 'cloudpickle==0.5.6', 'conda==4.5.12', 'cryptography-vectors==2.3.1', 'cryptography==2.3.1', 'cycler==0.10.0', 'cython==0.28.5', 'cytoolz==0.9.0.1', 'dask==1.0.0', 'decorator==4.3.0', 'dill==0.2.8.2', 'entrypoints==0.2.3', 'fastcache==1.0.2', 'gmpy2==2.0.8', 'h5py==2.7.1', 'idna==2.8', 'imageio==2.4.1', 'ipykernel==5.1.0', 'ipython-genutils==0.2.0', 'ipython==7.2.0', 'ipywidgets==7.2.1', 'jedi==0.13.2', 'jinja2==2.10', 'jsonschema==3.0.0a3', 'jupyter-client==5.2.4', 'jupyter-core==4.4.0', 'jupyterhub==0.9.4', 'jupyterlab-server==0.2.0', 'jupyterlab==0.35.4', 'kiwisolver==1.0.1', 'llvmlite==0.23.0', 'mako==1.0.7', 'markupsafe==1.1.0', 'matplotlib==2.2.3', 'mistune==0.8.4', 'mpmath==1.1.0', 'nbconvert==5.3.1', 'nbformat==4.4.0', 'networkx==2.2', 'notebook==5.7.2', 'numba==0.38.1', 'numexpr==2.6.9', 'numpy==1.13.3', 'olefile==0.46', 'packaging==18.0', 'pamela==0.3.0', 'pandas==0.23.4', 'pandocfilters==1.4.2', 'parso==0.3.1', 'patsy==0.5.1', 'pexpect==4.6.0', 'pickleshare==0.7.5', 'pillow==5.3.0', 'pip==18.1', 'prometheus-client==0.5.0', 'prompt-toolkit==2.0.7', 'protobuf==3.6.1', 'ptyprocess==0.6.0', 'pycosat==0.6.3', 'pycparser==2.19', 'pycurl==7.43.0.2', 'pygments==2.3.1', 'pyopenssl==18.0.0', 'pyparsing==2.3.0', 'pyrsistent==0.14.8', 'pysocks==1.6.8', 'python-dateutil==2.7.5', 'python-editor==1.0.3', 'python-oauth2==1.0.1', 'pytz==2018.7', 'pywavelets==1.0.1', 'pyyaml==3.13', 'pyzmq==17.1.2', 'requests==2.21.0', 'ruamel-yaml==0.15.71', 'scikit-image==0.14.1', 'scikit-learn==0.20.2', 'scipy==1.1.0', 'seaborn==0.9.0', 'send2trash==1.5.0', 'setuptools==40.6.3', 'six==1.12.0', 'sqlalchemy==1.2.15', 'statsmodels==0.9.0', 'sympy==1.1.1', 'terminado==0.8.1', 'testpath==0.4.2', 'toolz==0.9.0', 'tornado==5.1.1', 'traitlets==4.3.2', 'urllib3==1.24.1', 'vincent==0.4.4', 'wcwidth==0.1.7', 'webencodings==0.5.1', 'wheel==0.32.3', 'widgetsnbextension==3.2.1', 'xlrd==1.2.0']\n"
     ]
    }
   ],
   "source": [
    "import pkg_resources\n",
    "installed_packages = pkg_resources.working_set\n",
    "installed_packages_list = sorted([\"%s==%s\" % (i.key, i.version)\n",
    "     for i in installed_packages])\n",
    "print(installed_packages_list)"
   ]
  },
  {
   "cell_type": "code",
   "execution_count": 2,
   "metadata": {},
   "outputs": [
    {
     "name": "stdout",
     "output_type": "stream",
     "text": [
      "\n",
      "Please wait a moment while I gather a list of all available modules...\n",
      "\n"
     ]
    },
    {
     "name": "stderr",
     "output_type": "stream",
     "text": [
      "/opt/conda/lib/python3.6/site-packages/IPython/kernel/__init__.py:13: ShimWarning: The `IPython.kernel` package has been deprecated since IPython 4.0.You should import from ipykernel or jupyter_client instead.\n",
      "  \"You should import from ipykernel or jupyter_client instead.\", ShimWarning)\n",
      "/opt/conda/lib/python3.6/site-packages/skimage/novice/__init__.py:103: UserWarning: The `skimage.novice` module was deprecated in version 0.14. It will be removed in 0.16.\n",
      "  warnings.warn(\"The `skimage.novice` module was deprecated in version 0.14. \"\n",
      "/opt/conda/lib/python3.6/site-packages/skimage/viewer/__init__.py:6: UserWarning: Viewer requires Qt\n",
      "  warn('Viewer requires Qt')\n"
     ]
    },
    {
     "name": "stdout",
     "output_type": "stream",
     "text": [
      "Cython              bleach              jupyter_core        scipy\n",
      "IPython             bokeh               jupyterhub          seaborn\n",
      "OpenSSL             bs4                 jupyterlab          secrets\n",
      "PIL                 builtins            jupyterlab_server   select\n",
      "__future__          bz2                 keyword             selectors\n",
      "_ast                cProfile            kiwisolver          send2trash\n",
      "_asyncio            calendar            lib2to3             setuptools\n",
      "_bisect             certifi             linecache           shelve\n",
      "_blake2             cffi                llvmlite            shlex\n",
      "_bootlocale         cgi                 locale              shutil\n",
      "_bz2                cgitb               logging             signal\n",
      "_cffi_backend       chardet             lzma                sip\n",
      "_codecs             chunk               macpath             sipconfig\n",
      "_codecs_cn          cloudpickle         macurl2path         sipdistutils\n",
      "_codecs_hk          cmath               mailbox             site\n",
      "_codecs_iso2022     cmd                 mailcap             six\n",
      "_codecs_jp          code                mako                skimage\n",
      "_codecs_kr          codecs              markupsafe          sklearn\n",
      "_codecs_tw          codeop              marshal             smtpd\n",
      "_collections        collections         math                smtplib\n",
      "_collections_abc    colorsys            matplotlib          sndhdr\n",
      "_compat_pickle      compileall          mimetypes           socket\n",
      "_compression        concurrent          mistune             socketserver\n",
      "_crypt              conda               mmap                socks\n",
      "_csv                conda_env           modulefinder        sockshandler\n",
      "_ctypes             configparser        mpmath              spwd\n",
      "_ctypes_test        contextlib          multiprocessing     sqlalchemy\n",
      "_curses             copy                nbconvert           sqlite3\n",
      "_curses_panel       copyreg             nbformat            sre_compile\n",
      "_datetime           crypt               netrc               sre_constants\n",
      "_decimal            cryptography        networkx            sre_parse\n",
      "_dummy_thread       cryptography_vectors nis                 ssl\n",
      "_elementtree        csv                 nntplib             stat\n",
      "_functools          ctypes              notebook            statistics\n",
      "_hashlib            curl                ntpath              statsmodels\n",
      "_heapq              curses              nturl2path          storemagic\n",
      "_imp                cycler              numba               string\n",
      "_io                 cython              numbers             stringprep\n",
      "_json               cythonmagic         numexpr             struct\n",
      "_locale             cytoolz             numpy               subprocess\n",
      "_lsprof             dask                oauth2              sunau\n",
      "_lzma               datetime            olefile             symbol\n",
      "_markupbase         dateutil            opcode              sympy\n",
      "_md5                dbm                 operator            sympyprinting\n",
      "_multibytecodec     decimal             optparse            symtable\n",
      "_multiprocessing    decorator           os                  sys\n",
      "_opcode             difflib             ossaudiodev         sysconfig\n",
      "_operator           dill                packaging           syslog\n",
      "_osx_support        dis                 pamela              tabnanny\n",
      "_pickle             distutils           pandas              tarfile\n",
      "_posixsubprocess    doctest             pandocfilters       telnetlib\n",
      "_pydecimal          dummy_threading     parser              tempfile\n",
      "_pyio               easy_install        parso               terminado\n",
      "_pyrsistent_version editor              pathlib             termios\n",
      "_random             email               patsy               test_pycosat\n",
      "_sha1               encodings           pdb                 testpath\n",
      "_sha256             ensurepip           pexpect             tests\n",
      "_sha3               entrypoints         pickle              textwrap\n",
      "_sha512             enum                pickleshare         this\n",
      "_signal             errno               pickletools         threading\n",
      "_sitebuiltins       fastcache           pip                 time\n",
      "_socket             faulthandler        pipes               timeit\n",
      "_sqlite3            fcntl               pkg_resources       tkinter\n",
      "_sre                filecmp             pkgutil             tlz\n",
      "_ssl                fileinput           platform            token\n",
      "_stat               fnmatch             plistlib            tokenize\n",
      "_string             formatter           poplib              toolz\n",
      "_strptime           fractions           posix               tornado\n",
      "_struct             ftplib              posixpath           trace\n",
      "_symtable           functools           pprint              traceback\n",
      "_sysconfigdata_m_linux_x86_64-linux-gnu gc                  profile             tracemalloc\n",
      "_testbuffer         genericpath         prometheus_client   traitlets\n",
      "_testcapi           getopt              prompt_toolkit      tty\n",
      "_testimportmultiple getpass             pstats              turtle\n",
      "_testmultiphase     gettext             pty                 turtledemo\n",
      "_thread             glob                ptyprocess          types\n",
      "_threading_local    gmpy2               pvectorc            typing\n",
      "_tkinter            grp                 pwd                 unicodedata\n",
      "_tracemalloc        gzip                py_compile          unittest\n",
      "_warnings           h5py                pyclbr              urllib\n",
      "_weakref            hashlib             pycosat             urllib3\n",
      "_weakrefset         heapq               pycparser           uu\n",
      "_yaml               hmac                pycurl              uuid\n",
      "abc                 html                pydoc               venv\n",
      "aifc                http                pydoc_data          vincent\n",
      "alembic             idlelib             pyexpat             warnings\n",
      "antigravity         idna                pygments            wave\n",
      "argparse            imageio             pylab               wcwidth\n",
      "array               imaplib             pyparsing           weakref\n",
      "asn1crypto          imghdr              pyrsistent          webbrowser\n",
      "ast                 imp                 pytz                webencodings\n",
      "async_generator     importlib           pywt                wheel\n",
      "asynchat            inspect             pyximport           widgetsnbextension\n",
      "asyncio             io                  queue               wsgiref\n",
      "asyncore            ipaddress           quopri              xdrlib\n",
      "atexit              ipykernel           random              xlrd\n",
      "attr                ipykernel_launcher  re                  xml\n",
      "audioop             ipython_genutils    readline            xmlrpc\n",
      "autoreload          ipywidgets          reprlib             xxlimited\n",
      "backcall            itertools           requests            xxsubtype\n",
      "base64              jedi                resource            yaml\n",
      "bash_kernel         jinja2              rlcompleter         zipapp\n",
      "bdb                 json                rmagic              zipfile\n",
      "binascii            jsonschema          ruamel_yaml         zipimport\n",
      "binhex              jupyter             runpy               zlib\n",
      "bisect              jupyter_client      sched               zmq\n",
      "\n",
      "Enter any module name to get more help.  Or, type \"modules spam\" to search\n",
      "for modules whose name or summary contain the string \"spam\".\n",
      "\n"
     ]
    },
    {
     "name": "stderr",
     "output_type": "stream",
     "text": [
      "/opt/conda/lib/python3.6/pkgutil.py:107: VisibleDeprecationWarning: zmq.eventloop.minitornado is deprecated in pyzmq 14.0 and will be removed.\n",
      "    Install tornado itself to use zmq with the tornado IOLoop.\n",
      "    \n",
      "  yield from walk_packages(path, info.name+'.', onerror)\n"
     ]
    }
   ],
   "source": [
    "help('modules')"
   ]
  },
  {
   "cell_type": "code",
   "execution_count": null,
   "metadata": {},
   "outputs": [],
   "source": [
    "import sys as s"
   ]
  },
  {
   "cell_type": "code",
   "execution_count": null,
   "metadata": {},
   "outputs": [],
   "source": [
    "s.modules"
   ]
  },
  {
   "cell_type": "code",
   "execution_count": null,
   "metadata": {},
   "outputs": [],
   "source": []
  }
 ],
 "metadata": {
  "kernelspec": {
   "display_name": "Python 3",
   "language": "python",
   "name": "python3"
  },
  "language_info": {
   "codemirror_mode": {
    "name": "ipython",
    "version": 3
   },
   "file_extension": ".py",
   "mimetype": "text/x-python",
   "name": "python",
   "nbconvert_exporter": "python",
   "pygments_lexer": "ipython3",
   "version": "3.6.7"
  }
 },
 "nbformat": 4,
 "nbformat_minor": 2
}
