{
 "cells": [
  {
   "cell_type": "code",
   "execution_count": 7,
   "metadata": {},
   "outputs": [],
   "source": [
    "from pyAudioAnalysis import audioBasicIO\n",
    "from pyAudioAnalysis import audioFeatureExtraction\n",
    "import matplotlib.pyplot as plt\n",
    "# [Fs, x] = audioBasicIO.readAudioFile(\"middleton-hall-mono.mp3\");\n",
    "[Fs, x] = audioBasicIO.readAudioFile(\"middleton-hall.wav\");\n",
    "F = audioFeatureExtraction.stFeatureExtraction(x, Fs, 0.050*Fs, 0.025*Fs);"
   ]
  },
  {
   "cell_type": "code",
   "execution_count": 8,
   "metadata": {},
   "outputs": [
    {
     "data": {
      "text/plain": [
       "(array([[  4.12885662e-02,   7.48638838e-02,   5.17241379e-02, ...,\n",
       "           5.12704174e-02,   6.66969147e-02,   5.80762250e-02],\n",
       "        [  1.13332877e-04,   3.15740944e-02,   7.65260089e-02, ...,\n",
       "           7.59068393e-04,   3.79025684e-04,   2.25654942e-04],\n",
       "        [  1.09618860e+00,   2.21345230e+00,   3.18282054e+00, ...,\n",
       "           3.19157228e+00,   3.24198525e+00,   2.98631529e+00],\n",
       "        ..., \n",
       "        [  9.82863022e-03,   4.47774439e-02,   2.39526681e-02, ...,\n",
       "           2.77528675e-02,   1.88363571e-02,   4.16919285e-03],\n",
       "        [  4.67394499e-03,   8.98147116e-04,   7.80759947e-04, ...,\n",
       "           7.19550493e-04,   1.18066640e-03,   2.01909228e-03],\n",
       "        [  4.62751392e-03,   1.14324001e-02,   2.00683219e-02, ...,\n",
       "           3.75955123e-02,   2.09926319e-02,   1.41017068e-02]]),\n",
       " ['zcr',\n",
       "  'energy',\n",
       "  'energy_entropy',\n",
       "  'spectral_centroid',\n",
       "  'spectral_spread',\n",
       "  'spectral_entropy',\n",
       "  'spectral_flux',\n",
       "  'spectral_rolloff',\n",
       "  'mfcc_1',\n",
       "  'mfcc_2',\n",
       "  'mfcc_3',\n",
       "  'mfcc_4',\n",
       "  'mfcc_5',\n",
       "  'mfcc_6',\n",
       "  'mfcc_7',\n",
       "  'mfcc_8',\n",
       "  'mfcc_9',\n",
       "  'mfcc_10',\n",
       "  'mfcc_11',\n",
       "  'mfcc_12',\n",
       "  'mfcc_13',\n",
       "  'chroma_1',\n",
       "  'chroma_2',\n",
       "  'chroma_3',\n",
       "  'chroma_4',\n",
       "  'chroma_5',\n",
       "  'chroma_6',\n",
       "  'chroma_7',\n",
       "  'chroma_8',\n",
       "  'chroma_9',\n",
       "  'chroma_10',\n",
       "  'chroma_11',\n",
       "  'chroma_12',\n",
       "  'chroma_std'])"
      ]
     },
     "execution_count": 8,
     "metadata": {},
     "output_type": "execute_result"
    }
   ],
   "source": [
    "F"
   ]
  },
  {
   "cell_type": "code",
   "execution_count": 9,
   "metadata": {},
   "outputs": [
    {
     "ename": "TypeError",
     "evalue": "tuple indices must be integers or slices, not tuple",
     "output_type": "error",
     "traceback": [
      "\u001b[0;31m---------------------------------------------------------------------------\u001b[0m",
      "\u001b[0;31mTypeError\u001b[0m                                 Traceback (most recent call last)",
      "\u001b[0;32m<ipython-input-9-595fc1411099>\u001b[0m in \u001b[0;36m<module>\u001b[0;34m\u001b[0m\n\u001b[1;32m      1\u001b[0m \u001b[0mplt\u001b[0m\u001b[0;34m.\u001b[0m\u001b[0msubplot\u001b[0m\u001b[0;34m(\u001b[0m\u001b[0;36m2\u001b[0m\u001b[0;34m,\u001b[0m\u001b[0;36m1\u001b[0m\u001b[0;34m,\u001b[0m\u001b[0;36m1\u001b[0m\u001b[0;34m)\u001b[0m\u001b[0;34m;\u001b[0m\u001b[0;34m\u001b[0m\u001b[0;34m\u001b[0m\u001b[0m\n\u001b[0;32m----> 2\u001b[0;31m \u001b[0mplt\u001b[0m\u001b[0;34m.\u001b[0m\u001b[0mplot\u001b[0m\u001b[0;34m(\u001b[0m\u001b[0mF\u001b[0m\u001b[0;34m[\u001b[0m\u001b[0;36m0\u001b[0m\u001b[0;34m,\u001b[0m\u001b[0;34m:\u001b[0m\u001b[0;34m]\u001b[0m\u001b[0;34m)\u001b[0m\u001b[0;34m;\u001b[0m\u001b[0;34m\u001b[0m\u001b[0;34m\u001b[0m\u001b[0m\n\u001b[0m\u001b[1;32m      3\u001b[0m \u001b[0mplt\u001b[0m\u001b[0;34m.\u001b[0m\u001b[0mxlabel\u001b[0m\u001b[0;34m(\u001b[0m\u001b[0;34m'Frame no'\u001b[0m\u001b[0;34m)\u001b[0m\u001b[0;34m;\u001b[0m\u001b[0;34m\u001b[0m\u001b[0;34m\u001b[0m\u001b[0m\n\u001b[1;32m      4\u001b[0m \u001b[0mplt\u001b[0m\u001b[0;34m.\u001b[0m\u001b[0mylabel\u001b[0m\u001b[0;34m(\u001b[0m\u001b[0;34m'ZCR'\u001b[0m\u001b[0;34m)\u001b[0m\u001b[0;34m;\u001b[0m\u001b[0;34m\u001b[0m\u001b[0;34m\u001b[0m\u001b[0m\n\u001b[1;32m      5\u001b[0m \u001b[0;34m\u001b[0m\u001b[0m\n",
      "\u001b[0;31mTypeError\u001b[0m: tuple indices must be integers or slices, not tuple"
     ]
    },
    {
     "data": {
      "image/png": "[encoded data removed]",
      "text/plain": [
       "<Figure size 432x288 with 1 Axes>"
      ]
     },
     "metadata": {
      "needs_background": "light"
     },
     "output_type": "display_data"
    }
   ],
   "source": [
    "plt.subplot(2,1,1); \n",
    "plt.plot(F[0,:]); \n",
    "plt.xlabel('Frame no'); \n",
    "plt.ylabel('ZCR');\n",
    "\n",
    "plt.subplot(2,1,2);\n",
    "plt.plot(F[1,:]); \n",
    "plt.xlabel('Frame no'); \n",
    "plt.ylabel('Energy');\n",
    "\n",
    "plt.show()"
   ]
  },
  {
   "cell_type": "code",
   "execution_count": null,
   "metadata": {},
   "outputs": [],
   "source": []
  }
 ],
 "metadata": {
  "kernelspec": {
   "display_name": "Python 3",
   "language": "python",
   "name": "python3"
  },
  "language_info": {
   "codemirror_mode": {
    "name": "ipython",
    "version": 3
   },
   "file_extension": ".py",
   "mimetype": "text/x-python",
   "name": "python",
   "nbconvert_exporter": "python",
   "pygments_lexer": "ipython3",
   "version": "3.6.7"
  }
 },
 "nbformat": 4,
 "nbformat_minor": 2
}
